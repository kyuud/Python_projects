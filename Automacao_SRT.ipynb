{
 "cells": [
  {
   "cell_type": "code",
   "execution_count": 6,
   "id": "a58bbc2b",
   "metadata": {},
   "outputs": [],
   "source": [
    "import pyautogui\n",
    "import pyperclip\n",
    "import time"
   ]
  },
  {
   "cell_type": "code",
   "execution_count": 7,
   "id": "c4f2a01f",
   "metadata": {},
   "outputs": [],
   "source": [
    "#estrutura de contador\n",
    "contador = 0 \n",
    "while (contador < 30):\n",
    "   \n",
    "    #tempo de espera para carregamento da página\n",
    "    time.sleep(10)\n",
    "\n",
    "    #rotina navegador 1\n",
    "    pyautogui.click(x=126, y=487)\n",
    "    pyautogui.hotkey(\"1\")\n",
    "    pyautogui.hotkey(\"1\")\n",
    "    pyautogui.hotkey(\"1\")\n",
    "    pyautogui.hotkey(\"4\")\n",
    "    pyautogui.click(x=126, y=487)\n",
    "    pyperclip.copy(\"The ad should contain more information about the product, or have a more detailed description to spark more interest.\")\n",
    "    pyautogui.hotkey(\"ctrl\", \"v\")\n",
    "    pyautogui.hotkey(\"tab\")\n",
    "    pyautogui.hotkey(\"space\")\n",
    "\n",
    "    #rotina navegador 2\n",
    "    pyautogui.click(x=844, y=501)\n",
    "    pyautogui.hotkey(\"1\")\n",
    "    pyautogui.hotkey(\"1\")\n",
    "    pyautogui.hotkey(\"1\")\n",
    "    pyautogui.hotkey(\"4\")\n",
    "    pyautogui.click(x=844, y=501)\n",
    "    pyperclip.copy(\"The ad should contain more information about the product, or have a more detailed description to spark more interest.\")\n",
    "    pyautogui.hotkey(\"ctrl\", \"v\")\n",
    "    pyautogui.hotkey(\"tab\")\n",
    "    pyautogui.hotkey(\"space\")\n",
    "    \n",
    "    #tempo de espera entre rotinas\n",
    "    time.sleep(30)\n",
    "    \n",
    "    #finalização de rotina\n",
    "    pyautogui.click(x=126, y=487)\n",
    "    pyautogui.hotkey(\"space\")\n",
    "    pyautogui.click(x=844, y=501)\n",
    "    pyautogui.hotkey(\"space\")\n",
    "    \n",
    "    contador = contador + 1\n",
    "    \n"
   ]
  },
  {
   "cell_type": "code",
   "execution_count": null,
   "id": "e7f4c360",
   "metadata": {},
   "outputs": [],
   "source": []
  }
 ],
 "metadata": {
  "kernelspec": {
   "display_name": "Python 3 (ipykernel)",
   "language": "python",
   "name": "python3"
  },
  "language_info": {
   "codemirror_mode": {
    "name": "ipython",
    "version": 3
   },
   "file_extension": ".py",
   "mimetype": "text/x-python",
   "name": "python",
   "nbconvert_exporter": "python",
   "pygments_lexer": "ipython3",
   "version": "3.9.12"
  }
 },
 "nbformat": 4,
 "nbformat_minor": 5
}
