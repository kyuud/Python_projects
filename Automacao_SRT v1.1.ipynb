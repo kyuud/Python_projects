{
 "cells": [
  {
   "cell_type": "code",
   "execution_count": 12,
   "id": "6ba90236",
   "metadata": {},
   "outputs": [],
   "source": [
    "import pyautogui\n",
    "import pyperclip\n",
    "import time"
   ]
  },
  {
   "cell_type": "code",
   "execution_count": 19,
   "id": "eeb0b68c",
   "metadata": {},
   "outputs": [
    {
     "ename": "KeyboardInterrupt",
     "evalue": "",
     "output_type": "error",
     "traceback": [
      "\u001b[1;31m---------------------------------------------------------------------------\u001b[0m",
      "\u001b[1;31mKeyboardInterrupt\u001b[0m                         Traceback (most recent call last)",
      "Input \u001b[1;32mIn [19]\u001b[0m, in \u001b[0;36m<cell line: 3>\u001b[1;34m()\u001b[0m\n\u001b[0;32m     14\u001b[0m pyautogui\u001b[38;5;241m.\u001b[39mpress([\u001b[38;5;124m\"\u001b[39m\u001b[38;5;124mtab\u001b[39m\u001b[38;5;124m\"\u001b[39m, \u001b[38;5;124m\"\u001b[39m\u001b[38;5;124mspace\u001b[39m\u001b[38;5;124m\"\u001b[39m])\n\u001b[0;32m     19\u001b[0m \u001b[38;5;66;03m#tempo de espera entre rotinas\u001b[39;00m\n\u001b[1;32m---> 20\u001b[0m \u001b[43mtime\u001b[49m\u001b[38;5;241;43m.\u001b[39;49m\u001b[43msleep\u001b[49m\u001b[43m(\u001b[49m\u001b[38;5;241;43m30\u001b[39;49m\u001b[43m)\u001b[49m\n\u001b[0;32m     22\u001b[0m \u001b[38;5;66;03m#finalização de rotina\u001b[39;00m\n\u001b[0;32m     23\u001b[0m pyautogui\u001b[38;5;241m.\u001b[39mclick(x\u001b[38;5;241m=\u001b[39m\u001b[38;5;241m126\u001b[39m, y\u001b[38;5;241m=\u001b[39m\u001b[38;5;241m487\u001b[39m)\n",
      "\u001b[1;31mKeyboardInterrupt\u001b[0m: "
     ]
    }
   ],
   "source": [
    "#estrutura de contador\n",
    "contador = 0 \n",
    "while (contador < 30):\n",
    "   \n",
    "    #tempo de espera para carregamento da página\n",
    "    time.sleep(10)\n",
    "\n",
    "    #rotina navegador 1\n",
    "    pyautogui.click(x=126, y=487)\n",
    "    pyautogui.press([\"1\", \"1\", \"1\", \"4\"], interval=0.3)\n",
    "    pyautogui.click(x=126, y=487)\n",
    "    pyperclip.copy(\"The ad should contain more information about the product, or have a more detailed description to spark more interest.\")\n",
    "    pyautogui.hotkey(\"ctrl\", \"v\")\n",
    "    pyautogui.press([\"tab\", \"space\"], interval=0.3)\n",
    "\n",
    "\n",
    "    #rotina navegador 2\n",
    "    pyautogui.click(x=844, y=501)\n",
    "    pyautogui.press([\"1\", \"1\", \"1\", \"4\"], interval=0.3)\n",
    "    pyautogui.click(x=844, y=501)\n",
    "    pyperclip.copy(\"The ad should contain more information about the product, or have a more detailed description to spark more interest.\")\n",
    "    pyautogui.hotkey(\"ctrl\", \"v\")\n",
    "    pyautogui.press([\"tab\", \"space\"], interval=0.3)\n",
    "    \n",
    "    #tempo de espera entre rotinas\n",
    "    time.sleep(30)\n",
    "    \n",
    "    #finalização de rotina\n",
    "    pyautogui.click(x=126, y=487)\n",
    "    pyautogui.hotkey(\"space\")\n",
    "    pyautogui.click(x=844, y=501)\n",
    "    pyautogui.hotkey(\"space\")\n",
    "    \n",
    "    contador = contador + 1"
   ]
  },
  {
   "cell_type": "code",
   "execution_count": 2,
   "id": "72a2ae2c",
   "metadata": {},
   "outputs": [],
   "source": []
  },
  {
   "cell_type": "code",
   "execution_count": 7,
   "id": "255dc7a5",
   "metadata": {},
   "outputs": [
    {
     "data": {
      "text/plain": [
       "Loja 6    16648\n",
       "Loja 3    12367\n",
       "Loja 1    12344\n",
       "Loja 5    12177\n",
       "Loja 2     8318\n",
       "Loja 4     8146\n",
       "Name: loja, dtype: int64"
      ]
     },
     "execution_count": 7,
     "metadata": {},
     "output_type": "execute_result"
    }
   ],
   "source": []
  },
  {
   "cell_type": "code",
   "execution_count": null,
   "id": "30f9119d",
   "metadata": {},
   "outputs": [],
   "source": []
  },
  {
   "cell_type": "code",
   "execution_count": null,
   "id": "d606301b",
   "metadata": {},
   "outputs": [],
   "source": []
  }
 ],
 "metadata": {
  "kernelspec": {
   "display_name": "Python 3 (ipykernel)",
   "language": "python",
   "name": "python3"
  },
  "language_info": {
   "codemirror_mode": {
    "name": "ipython",
    "version": 3
   },
   "file_extension": ".py",
   "mimetype": "text/x-python",
   "name": "python",
   "nbconvert_exporter": "python",
   "pygments_lexer": "ipython3",
   "version": "3.9.12"
  }
 },
 "nbformat": 4,
 "nbformat_minor": 5
}
